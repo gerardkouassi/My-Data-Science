{
 "cells": [
  {
   "cell_type": "markdown",
   "id": "7705697e-1d7c-4e27-a43b-c4da1787cf09",
   "metadata": {},
   "source": [
    "- Apprendre à programmer est une activité déjà très intéressante en elle-même : elle peut stimuler puissamment votre curiosité intellectuelle. Mais ce n’est pas tout. Acquérir cette compétence vous ouvre également la voie menant à la réalisation de projets tout à fait concrets (utiles ou ludiques), ce qui vous procurera certainement beaucoup de fierté et de grandes satisfactions.\n",
    "\n",
    "- Aide aussi à cultiver la persévérence\n",
    "- La programmation est l’art d’apprendre à une machine comment accomplir de nouvelles tâches, qu’elle n’avait jamais été capable d’effectuer auparavant.\n",
    "- L’activité essentielle d’un programmeur consiste à résoudre des problèmes.\n",
    "- La programmation est donc l’art de commander à un ordinateur de faire exactement ce que vous voulez, et Python compte parmi les langages qu’il est capable de comprendre pour recevoir vos ordres.\n",
    "\n",
    "- Un bon programmeur veille toujours à insérer un grand nombre de commentaires dans ses scripts. En procédant ainsi, non seulement il facilite la compréhension de ses algorithmes pour d’autres lecteurs éventuels, mais encore il se force lui-même à avoir les idées plus claires.\n",
    "\n",
    "- Bien que ce ne soit pas indispensable, nous vous recommandons une fois encore de choisir pour vos scripts des noms de fichiers se terminant par l’extension .py\n",
    "\n",
    "- les caractères typographiques\n",
    "\n",
    "- « Suite de Fibonacci ». Il s’agit d’une suite de nombres dont chaque terme est égal à la somme des deux termes qui le précèdent."
   ]
  },
  {
   "cell_type": "markdown",
   "id": "8c807f7c-0d61-4e9d-96bb-8b2b442e5c0c",
   "metadata": {},
   "source": [
    "***<font color=\"blue\"> feifeij<font>***"
   ]
  },
  {
   "cell_type": "code",
   "execution_count": 2,
   "id": "bc1dba69-d121-4574-a63a-08861c5e7e29",
   "metadata": {},
   "outputs": [
    {
     "name": "stdout",
     "output_type": "stream",
     "text": [
      "1 2 3 5 8 13 21 34 55 89 "
     ]
    }
   ],
   "source": [
    "a, b, c = 1, 1, 1\n",
    "while c < 11 :\n",
    "    print(b, end =\" \")\n",
    "    a, b, c = b, a+b, c+1"
   ]
  },
  {
   "cell_type": "markdown",
   "id": "82bb9d04-75d7-4072-ad69-8520d9c997f2",
   "metadata": {},
   "source": [
    "*************\n",
    "## <font color=\"red\"> *Exercice 1*<font>\n",
    "***<font color=\"blue\"> Écrivez un programme qui affiche les 20 premiers termes de la table de multiplication par 7.<font>***\n",
    "*************"
   ]
  },
  {
   "cell_type": "code",
   "execution_count": 7,
   "id": "4506ff11-6611-45bc-95f7-2168770f8d00",
   "metadata": {},
   "outputs": [
    {
     "name": "stdout",
     "output_type": "stream",
     "text": [
      "0 * 7 = 0\n",
      "1 * 7 = 7\n",
      "2 * 7 = 14\n",
      "3 * 7 = 21\n",
      "4 * 7 = 28\n",
      "5 * 7 = 35\n",
      "6 * 7 = 42\n",
      "7 * 7 = 49\n",
      "8 * 7 = 56\n",
      "9 * 7 = 63\n",
      "10 * 7 = 70\n",
      "11 * 7 = 77\n",
      "12 * 7 = 84\n",
      "13 * 7 = 91\n",
      "14 * 7 = 98\n",
      "15 * 7 = 105\n",
      "16 * 7 = 112\n",
      "17 * 7 = 119\n",
      "18 * 7 = 126\n",
      "19 * 7 = 133\n"
     ]
    }
   ],
   "source": [
    "# Avec la boucle while\n",
    "i=0\n",
    "while i<20:\n",
    "    print(i,\"* 7 =\",i*7)\n",
    "    i=i+1"
   ]
  },
  {
   "cell_type": "code",
   "execution_count": 8,
   "id": "8cb15acf-78a2-4297-a206-b68334e9306a",
   "metadata": {},
   "outputs": [
    {
     "name": "stdout",
     "output_type": "stream",
     "text": [
      "0 * 7 = 0\n",
      "1 * 7 = 7\n",
      "2 * 7 = 14\n",
      "3 * 7 = 21\n",
      "4 * 7 = 28\n",
      "5 * 7 = 35\n",
      "6 * 7 = 42\n",
      "7 * 7 = 49\n",
      "8 * 7 = 56\n",
      "9 * 7 = 63\n",
      "10 * 7 = 70\n",
      "11 * 7 = 77\n",
      "12 * 7 = 84\n",
      "13 * 7 = 91\n",
      "14 * 7 = 98\n",
      "15 * 7 = 105\n",
      "16 * 7 = 112\n",
      "17 * 7 = 119\n",
      "18 * 7 = 126\n",
      "19 * 7 = 133\n"
     ]
    }
   ],
   "source": [
    "# Avec la boucle while\n",
    "for i in range(20):\n",
    "    print(i,\"* 7 =\",i*7)"
   ]
  },
  {
   "cell_type": "markdown",
   "id": "1dcb7d46-e637-4525-aa3f-fab359747a1f",
   "metadata": {},
   "source": [
    "**********\n",
    "## <font color=\"red\"> *Exercice 2*<font>\n",
    "***<font color=\"blue\"> Écrivez un programme qui affiche une table de conversion de sommes d’argent exprimées en euros, en dollars canadiens. La progression des sommes de la table sera « géométrique », comme dans l’exemple ci-dessous : 1 euro(s) = 1.65 dollar(s), 2 euro(s) = 3.30 dollar(s), 4 euro(s) = 6.60 dollar(s), 8 euro(s) = 13.20 dollar(s) etc. (S’arrêter à 16384 euros.)<font>***\n",
    "**********"
   ]
  },
  {
   "cell_type": "code",
   "execution_count": 15,
   "id": "6c2bf6a3-e1b5-40c8-82f9-23ab89463fc4",
   "metadata": {},
   "outputs": [
    {
     "name": "stdin",
     "output_type": "stream",
     "text": [
      "Entrez le montant en euros que vous souhaitez convertir en dollars canadiens:  56\n"
     ]
    },
    {
     "name": "stdout",
     "output_type": "stream",
     "text": [
      "56 euros = 92.4 dollars canadiens\n"
     ]
    }
   ],
   "source": [
    "montant_en_euros = input(\"Entrez le montant en euros que vous souhaitez convertir en dollars canadiens: \")\n",
    "print(montant_en_euros,\"euros =\",round(int(montant_en_euros)*1.65,2), \"dollars canadiens\")"
   ]
  },
  {
   "cell_type": "code",
   "execution_count": null,
   "id": "8bed582c-4489-42ae-8d73-16ee5d416455",
   "metadata": {},
   "outputs": [],
   "source": []
  },
  {
   "cell_type": "markdown",
   "id": "8087af18-ddd8-42f2-8c00-b5e369cd5330",
   "metadata": {},
   "source": [
    "*************\n",
    "## <font color=\"red\"> *Exercice 3*<font>\n",
    "***<font color=\"blue\"> Écrivez un programme qui affiche une suite de 12 nombres dont chaque terme soit égal au triple du terme précédent.<font>***\n",
    "*************"
   ]
  },
  {
   "cell_type": "code",
   "execution_count": 7,
   "id": "db43fa5a-f224-4582-979f-c1e63ba3cd1d",
   "metadata": {},
   "outputs": [
    {
     "name": "stdin",
     "output_type": "stream",
     "text": [
      "Entrez le premier nombre:  10\n"
     ]
    },
    {
     "name": "stdout",
     "output_type": "stream",
     "text": [
      "10\n",
      "30\n",
      "90\n",
      "270\n",
      "810\n",
      "2430\n",
      "7290\n",
      "21870\n",
      "65610\n",
      "196830\n",
      "590490\n",
      "1771470\n"
     ]
    }
   ],
   "source": [
    "# Initialisation du premier terme de la suite\n",
    "a=int(input(\"Entrez le premier nombre: \"))\n",
    "\n",
    "# Affichage du premier terme\n",
    "print(a)\n",
    "\n",
    "# Calcul et affichage des 11 termes suivants\n",
    "for i in range(11):\n",
    "    a = a * 3\n",
    "    print(a)\n"
   ]
  },
  {
   "cell_type": "markdown",
   "id": "6cf9099e-1f91-4119-ba5b-c814af862d58",
   "metadata": {},
   "source": [
    "## <font color=\"red\"> *Exercice 4*<font>"
   ]
  },
  {
   "cell_type": "markdown",
   "id": "e9cb9998-e8f6-4ead-a6f8-4627e6e56a9d",
   "metadata": {},
   "source": [
    "*** <font color=\"blue\"> Écrivez un programme qui affiche les 20 premiers termes de la table de multiplication par 7, en signalant au passage (à l’aide d’une astérisque) ceux qui sont des multiples de 3.\n",
    "Exemple: 7 14 21* 28 35 42* 49... <font>***"
   ]
  },
  {
   "cell_type": "code",
   "execution_count": 14,
   "id": "5f25f25e-a342-4d2b-8ef3-7090d5a16a8a",
   "metadata": {},
   "outputs": [
    {
     "name": "stdout",
     "output_type": "stream",
     "text": [
      "0 *7= 0 *\n",
      "1 *7= 7\n",
      "2 *7= 14\n",
      "3 *7= 21 *\n",
      "4 *7= 28\n",
      "5 *7= 35\n",
      "6 *7= 42 *\n",
      "7 *7= 49\n",
      "8 *7= 56\n",
      "9 *7= 63 *\n",
      "10 *7= 70\n",
      "11 *7= 77\n",
      "12 *7= 84 *\n",
      "13 *7= 91\n",
      "14 *7= 98\n",
      "15 *7= 105 *\n",
      "16 *7= 112\n",
      "17 *7= 119\n",
      "18 *7= 126 *\n",
      "19 *7= 133\n"
     ]
    }
   ],
   "source": [
    "for i in range(20):\n",
    "    if i*7 % 3==0:\n",
    "        print(i,\"*7=\",i*7,\"*\")\n",
    "    else:    \n",
    "        print(i,\"*7=\",i*7) \n"
   ]
  },
  {
   "cell_type": "markdown",
   "id": "1a7fec25-527a-48bb-9757-7b5079315dbe",
   "metadata": {},
   "source": [
    "## <font color=\"red\"> *Exercice 5*<font>"
   ]
  },
  {
   "cell_type": "markdown",
   "id": "7bc3036a-192d-44c5-9b2a-33efeebe8cc1",
   "metadata": {},
   "source": [
    "***<font color=\"blue\"> Écrivez un script qui compte le nombre d’occurrences du caractère « e » dans une chaîne.<font>***"
   ]
  },
  {
   "cell_type": "code",
   "execution_count": 38,
   "id": "49c765e9-6e2d-4ae6-bad4-38a853627aa6",
   "metadata": {},
   "outputs": [
    {
     "name": "stdin",
     "output_type": "stream",
     "text": [
      "Entrez un mot s'il vous plait: gerard, il faut epargner\n"
     ]
    },
    {
     "data": {
      "text/plain": [
       "3"
      ]
     },
     "execution_count": 38,
     "metadata": {},
     "output_type": "execute_result"
    }
   ],
   "source": [
    "mot=input(\"Entrez un mot s'il vous plait:\")\n",
    "mot.count(\"e\")"
   ]
  },
  {
   "cell_type": "markdown",
   "id": "2e21c212-c214-4492-a03b-6372423cd481",
   "metadata": {},
   "source": [
    "## <font color=\"red\"> *Exercice 6*<font>  Ne marche pas correctement"
   ]
  },
  {
   "cell_type": "markdown",
   "id": "6640219a-3117-4ee1-ae12-9c0df5f76025",
   "metadata": {},
   "source": [
    "Écrivez un script qui recopie une chaîne (dans une nouvelle variable), en insérant des astérisques entre les caractères.\n",
    "Ainsi par exemple, « gaston » devra devenir « g*a*s*t*o*n »"
   ]
  },
  {
   "cell_type": "code",
   "execution_count": 46,
   "id": "47f50a9a-b199-461d-8f9a-cf356088cd4e",
   "metadata": {},
   "outputs": [
    {
     "ename": "SyntaxError",
     "evalue": "invalid syntax (2052337879.py, line 2)",
     "output_type": "error",
     "traceback": [
      "\u001b[0;36m  File \u001b[0;32m\"/var/folders/hk/k3_g9kr137q1gzgkf6yn8qxr0000gn/T/ipykernel_2393/2052337879.py\"\u001b[0;36m, line \u001b[0;32m2\u001b[0m\n\u001b[0;31m    mot_copy=[i+\"*\": for i in mot]\u001b[0m\n\u001b[0m                   ^\u001b[0m\n\u001b[0;31mSyntaxError\u001b[0m\u001b[0;31m:\u001b[0m invalid syntax\n"
     ]
    }
   ],
   "source": [
    "mot=input(\"Entrez un mot s'il vous plait:\")\n",
    "mot_copy=[i+\"*\", end=\"\": for i in mot]"
   ]
  },
  {
   "cell_type": "code",
   "execution_count": 44,
   "id": "67f59ff4-eeb6-4181-a785-45b34106c196",
   "metadata": {},
   "outputs": [
    {
     "name": "stdin",
     "output_type": "stream",
     "text": [
      "Entrez un mot s'il vous plait: gaston\n"
     ]
    },
    {
     "name": "stdout",
     "output_type": "stream",
     "text": [
      "g*a*s*t*o*n*"
     ]
    }
   ],
   "source": [
    "mot=input(\"Entrez un mot s'il vous plait:\")\n",
    "mot_copy=[i+\"*\", end=\"\": for i in mot]\n",
    "\n",
    "for i in mot:\n",
    "    print(i+\"*\", end=\"\")"
   ]
  },
  {
   "cell_type": "code",
   "execution_count": 45,
   "id": "75747786-e895-4233-ac3c-3b80b579620e",
   "metadata": {},
   "outputs": [
    {
     "ename": "NameError",
     "evalue": "name 'copy' is not defined",
     "output_type": "error",
     "traceback": [
      "\u001b[0;31m---------------------------------------------------------------------------\u001b[0m",
      "\u001b[0;31mNameError\u001b[0m                                 Traceback (most recent call last)",
      "\u001b[0;32m/var/folders/hk/k3_g9kr137q1gzgkf6yn8qxr0000gn/T/ipykernel_2393/2848855988.py\u001b[0m in \u001b[0;36m<module>\u001b[0;34m\u001b[0m\n\u001b[0;32m----> 1\u001b[0;31m \u001b[0mm\u001b[0m\u001b[0;34m=\u001b[0m\u001b[0mcopy\u001b[0m\u001b[0;34m(\u001b[0m\u001b[0;34m\"gerard\"\u001b[0m\u001b[0;34m)\u001b[0m\u001b[0;34m\u001b[0m\u001b[0;34m\u001b[0m\u001b[0m\n\u001b[0m",
      "\u001b[0;31mNameError\u001b[0m: name 'copy' is not defined"
     ]
    }
   ],
   "source": [
    "m=copy(\"gerard\")"
   ]
  },
  {
   "cell_type": "code",
   "execution_count": null,
   "id": "c669644a-ed6d-4c5b-a550-b2239bb4c109",
   "metadata": {},
   "outputs": [],
   "source": []
  },
  {
   "cell_type": "markdown",
   "id": "0c9b9ed9-e474-44b6-8f6f-947c7fae0350",
   "metadata": {},
   "source": [
    "## <font color=\"red\"> *Exercice 7*<font> : Ne marche pas correctement"
   ]
  },
  {
   "cell_type": "markdown",
   "id": "3589020b-043e-4c89-bc5e-b3784a340801",
   "metadata": {},
   "source": [
    "Écrivez un script qui recopie une chaîne (dans une nouvelle variable) en l’inversant. Ainsi par exemple, « zorglub » deviendra « bulgroz »."
   ]
  },
  {
   "cell_type": "code",
   "execution_count": 57,
   "id": "a3969be7-e869-457c-81b4-53d108b753a1",
   "metadata": {},
   "outputs": [
    {
     "name": "stdin",
     "output_type": "stream",
     "text": [
      "Entrez un mot s'il vous plait: btbr\n"
     ]
    },
    {
     "name": "stdout",
     "output_type": "stream",
     "text": [
      "b\n",
      "t\n",
      "b\n",
      "r\n"
     ]
    }
   ],
   "source": [
    "mot=input(\"Entrez un mot s'il vous plait:\")\n",
    "list_du_mot=list(mot)\n",
    "\n",
    "for i in range(len(list_du_mot)):\n",
    "    print(list_du_mot[i])"
   ]
  },
  {
   "cell_type": "code",
   "execution_count": null,
   "id": "502f09f1-352a-4616-9c9c-45d259d59fec",
   "metadata": {},
   "outputs": [],
   "source": []
  },
  {
   "cell_type": "code",
   "execution_count": null,
   "id": "57c2b2df-439e-4674-b6ac-0308a2b30575",
   "metadata": {},
   "outputs": [],
   "source": []
  },
  {
   "cell_type": "markdown",
   "id": "1db58539-188b-4bc5-97b2-61ab4ef383a8",
   "metadata": {},
   "source": [
    "## <font color=\"red\"> *Exercice 8*<font>"
   ]
  },
  {
   "cell_type": "markdown",
   "id": "abb7867d-5eb7-42e8-82b5-b1058ce998e4",
   "metadata": {},
   "source": [
    "***<font color=\"blue\"> Écrivez un programme qui affiche la suite de symboles suivante :<font>***"
   ]
  },
  {
   "cell_type": "raw",
   "id": "df860a5b-18e1-4751-ae2a-a1acebb6be65",
   "metadata": {},
   "source": [
    "*\n",
    "**\n",
    "*** \n",
    "**** \n",
    "***** \n",
    "****** \n",
    "*******"
   ]
  },
  {
   "cell_type": "code",
   "execution_count": 24,
   "id": "d9dd4930-e757-43ca-8a7f-ea09cd040dff",
   "metadata": {},
   "outputs": [
    {
     "name": "stdout",
     "output_type": "stream",
     "text": [
      "\n",
      "*\n",
      "**\n",
      "***\n",
      "****\n",
      "*****\n",
      "******\n",
      "*******\n"
     ]
    }
   ],
   "source": [
    "for i in range(8):\n",
    "    print(i*\"*\")"
   ]
  },
  {
   "cell_type": "markdown",
   "id": "eb308c19-2ddd-40fa-bdd4-aee8579d520d",
   "metadata": {},
   "source": [
    "## <font color=\"red\"> *Exercice 9*<font>"
   ]
  },
  {
   "cell_type": "markdown",
   "id": "4dcade77-7358-4e54-b945-f15083af9184",
   "metadata": {},
   "source": [
    "***<font color=\"blue\">Écrivez un script qui détermine si une chaîne contient ou non le caractère « e ».<font>***"
   ]
  },
  {
   "cell_type": "code",
   "execution_count": 32,
   "id": "bd88eeb6-66c0-4b75-88f9-beb560f2da41",
   "metadata": {},
   "outputs": [
    {
     "name": "stdin",
     "output_type": "stream",
     "text": [
      "Entrez un mot s'il vous plait: rvnrjvnrjnv e\n"
     ]
    },
    {
     "name": "stdout",
     "output_type": "stream",
     "text": [
      "Oui, votre mot contient le caractère e\n"
     ]
    }
   ],
   "source": [
    "mot=input(\"Entrez un mot s'il vous plait:\")\n",
    "\n",
    "list_du_mot=list(mot)\n",
    "\n",
    "if \"e\" in list_du_mot:\n",
    "    print(\"Oui, votre mot contient le caractère e\")\n",
    "else:\n",
    "    print(\"Non, votre mot ne contient pas le caractère e\")"
   ]
  },
  {
   "cell_type": "markdown",
   "id": "2bb9f337-20b3-437e-9d49-b7e6f9afecd2",
   "metadata": {},
   "source": [
    "## <font color=\"red\"> *Exercice 10*<font>"
   ]
  },
  {
   "cell_type": "code",
   "execution_count": null,
   "id": "1a8ce65a-92ac-42e2-b35f-8d8ad16bf780",
   "metadata": {},
   "outputs": [],
   "source": []
  }
 ],
 "metadata": {
  "kernelspec": {
   "display_name": "Python 3 (ipykernel)",
   "language": "python",
   "name": "python3"
  },
  "language_info": {
   "codemirror_mode": {
    "name": "ipython",
    "version": 3
   },
   "file_extension": ".py",
   "mimetype": "text/x-python",
   "name": "python",
   "nbconvert_exporter": "python",
   "pygments_lexer": "ipython3",
   "version": "3.9.13"
  }
 },
 "nbformat": 4,
 "nbformat_minor": 5
}
